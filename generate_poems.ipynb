{
 "cells": [
  {
   "cell_type": "code",
   "execution_count": 51,
   "metadata": {},
   "outputs": [],
   "source": [
    "import os\n",
    "import numpy as np\n",
    "import pronouncing\n",
    "import re\n",
    "import tensorflow as tf\n",
    "import random"
   ]
  },
  {
   "cell_type": "code",
   "execution_count": 91,
   "metadata": {},
   "outputs": [],
   "source": [
    "num = 2\n",
    "DATA_PATH = './outputs/generated_output_{0}.txt'\n",
    "data_file = open(DATA_PATH.format(num), \"r\").read().split()"
   ]
  },
  {
   "cell_type": "code",
   "execution_count": 92,
   "metadata": {},
   "outputs": [],
   "source": [
    "def syllable_count(word):\n",
    "    count = 0\n",
    "    vowels = \"aeiouy\"\n",
    "    if word[0] in vowels:\n",
    "        count += 1\n",
    "    for index in range(1, len(word)):\n",
    "        if word[index] in vowels and word[index - 1] not in vowels:\n",
    "            count += 1\n",
    "    if word.endswith(\"e\"):\n",
    "        count -= 1\n",
    "    if count == 0:\n",
    "        count += 1\n",
    "    return count"
   ]
  },
  {
   "cell_type": "code",
   "execution_count": 93,
   "metadata": {},
   "outputs": [],
   "source": [
    "line = \"\"\n",
    "data_lines = []\n",
    "for word in data_file:\n",
    "    if (word != \"'\"):\n",
    "        line += word + \" \"\n",
    "    if (len(line) > 10 and syllable_count(line) >= 10):\n",
    "        data_lines.append(line[:-1])\n",
    "        line = \"\""
   ]
  },
  {
   "cell_type": "code",
   "execution_count": 94,
   "metadata": {},
   "outputs": [],
   "source": [
    "# rhyming scheme : aabb\n",
    "poems_lines = [line.strip() for line in data_lines]\n",
    "\n",
    "last_words = [re.sub(r'[^\\w\\s]', '', line.split(\" \")[-1]) for line in poems_lines]\n",
    "\n",
    "lines_dict = {idx:word for idx, word in enumerate(poems_lines)}\n",
    "last_word_dict = {i:w for i, w in enumerate(last_words)}"
   ]
  },
  {
   "cell_type": "code",
   "execution_count": 95,
   "metadata": {},
   "outputs": [],
   "source": [
    "rhymes_dict = {}\n",
    "for i, word_0 in last_word_dict.items():\n",
    "    potential_rhymes = pronouncing.rhymes(word_0)\n",
    "    rhymes = []\n",
    "    \n",
    "    for j, word_1 in last_word_dict.items():\n",
    "        if (word_0 != word_1):\n",
    "            if (word_1 in potential_rhymes):\n",
    "                rhymes.append(j)\n",
    "    \n",
    "    rhymes_dict[i] = rhymes"
   ]
  },
  {
   "cell_type": "code",
   "execution_count": 96,
   "metadata": {},
   "outputs": [],
   "source": [
    "def generate_rhyming_lines(rhymes, num):\n",
    "    while 1:\n",
    "        i = random.randrange(len(rhymes.keys()))\n",
    "        if len(rhymes[i]) >= num - 1:\n",
    "            pool = rhymes[i] + [i]\n",
    "            return random.sample(set(pool), num)"
   ]
  },
  {
   "cell_type": "code",
   "execution_count": 97,
   "metadata": {},
   "outputs": [],
   "source": [
    "def paragraph_maker(rhymes):\n",
    "    a = generate_rhyming_lines(rhymes, 2)\n",
    "    b = generate_rhyming_lines(rhymes, 2)\n",
    "    c = generate_rhyming_lines(rhymes, 2)\n",
    "    couple_0 = lines_dict[a[0]] + \"\\n\"  + lines_dict[a[1]] + \"\\n\"\n",
    "    couple_1 = lines_dict[b[0]] + \"\\n\"  + lines_dict[b[1]] + \"\\n\"\n",
    "    couple_2 = lines_dict[c[0]] + \"\\n\"  + lines_dict[c[1]] + \"\\n\"\n",
    "    return couple_0 + couple_1 + couple_2"
   ]
  },
  {
   "cell_type": "code",
   "execution_count": 98,
   "metadata": {},
   "outputs": [],
   "source": [
    "def poem_maker(rhymes):\n",
    "    first = paragraph_maker(rhymes)\n",
    "    second = paragraph_maker(rhymes)\n",
    "    third = paragraph_maker(rhymes)\n",
    "    fourth = paragraph_maker(rhymes)\n",
    "    return first + \"\\n \\n\" + second + \"\\n \\n\" + third"
   ]
  },
  {
   "cell_type": "code",
   "execution_count": 99,
   "metadata": {},
   "outputs": [],
   "source": [
    "names = [\"The Road \\n\\n\", \"My Life\\n\\n\", \"The Book\\n\\n\"]\n",
    "OUTPUT_POEMS = './outputs/generated_poems.txt'\n",
    "generated_poems = open(OUTPUT_POEMS, 'a+')\n",
    "\n",
    "poem = poem_maker(rhymes_dict)\n",
    "generated_poems.write(names[num])\n",
    "generated_poems.write(poem)\n",
    "generated_poems.write(\"\\n\\n\\n\\n\")\n",
    "\n",
    "generated_poems.close()"
   ]
  },
  {
   "cell_type": "code",
   "execution_count": null,
   "metadata": {},
   "outputs": [],
   "source": []
  }
 ],
 "metadata": {
  "kernelspec": {
   "display_name": "tensorflow",
   "language": "python",
   "name": "tensorflow"
  },
  "language_info": {
   "codemirror_mode": {
    "name": "ipython",
    "version": 3
   },
   "file_extension": ".py",
   "mimetype": "text/x-python",
   "name": "python",
   "nbconvert_exporter": "python",
   "pygments_lexer": "ipython3",
   "version": "3.7.7"
  }
 },
 "nbformat": 4,
 "nbformat_minor": 4
}
